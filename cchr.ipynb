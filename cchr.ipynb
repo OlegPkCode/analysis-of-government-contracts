{
 "cells": [
  {
   "cell_type": "code",
   "execution_count": null,
   "id": "fb7129bb",
   "metadata": {},
   "outputs": [],
   "source": [
    "# Разделяет датасет на отдельные файлы по короткому наименованию позиции (ключу)"
   ]
  },
  {
   "cell_type": "code",
   "execution_count": null,
   "id": "3f80c804",
   "metadata": {},
   "outputs": [],
   "source": [
    "import pandas as pd"
   ]
  },
  {
   "cell_type": "code",
   "execution_count": null,
   "id": "80470d5a",
   "metadata": {},
   "outputs": [],
   "source": [
    "df = pd.read_csv('dataset_positions.csv', sep=';')"
   ]
  },
  {
   "cell_type": "code",
   "execution_count": null,
   "id": "d9779670",
   "metadata": {},
   "outputs": [],
   "source": [
    "df.info()"
   ]
  },
  {
   "cell_type": "code",
   "execution_count": null,
   "id": "2f5f7c59",
   "metadata": {},
   "outputs": [],
   "source": [
    "arr = df.find_text.unique()"
   ]
  },
  {
   "cell_type": "code",
   "execution_count": null,
   "id": "0c059cfd",
   "metadata": {},
   "outputs": [],
   "source": [
    "for item in arr:\n",
    "    temporary_df = df[ df.find_text == item ]\n",
    "    temporary_df.insert(0, 'sname', '')        \n",
    "    temporary_df.to_csv('./data/' + item  + '_' + str(len(temporary_df)) + '.csv', sep=';', index=False, decimal=',')"
   ]
  },
  {
   "cell_type": "code",
   "execution_count": null,
   "id": "ae72d7e2",
   "metadata": {},
   "outputs": [],
   "source": []
  }
 ],
 "metadata": {
  "kernelspec": {
   "display_name": "Python 3 (ipykernel)",
   "language": "python",
   "name": "python3"
  },
  "language_info": {
   "codemirror_mode": {
    "name": "ipython",
    "version": 3
   },
   "file_extension": ".py",
   "mimetype": "text/x-python",
   "name": "python",
   "nbconvert_exporter": "python",
   "pygments_lexer": "ipython3",
   "version": "3.9.12"
  }
 },
 "nbformat": 4,
 "nbformat_minor": 5
}
